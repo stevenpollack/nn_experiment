{
 "cells": [
  {
   "cell_type": "code",
   "execution_count": 1,
   "metadata": {
    "collapsed": false
   },
   "outputs": [
    {
     "name": "stderr",
     "output_type": "stream",
     "text": [
      "Loading required package: foreach\n",
      "Loading required package: iterators\n",
      "Loading required package: parallel\n"
     ]
    }
   ],
   "source": [
    "library(stringr)\n",
    "library(doParallel)\n",
    "registerDoParallel(cores=parallel::detectCores()-1)\n",
    "library(data.table)"
   ]
  },
  {
   "cell_type": "code",
   "execution_count": 2,
   "metadata": {
    "collapsed": true
   },
   "outputs": [],
   "source": [
    "# determine the range of polynomial degree. E.g.,\n",
    "# {x^min_order, ..., x^max_order}\n",
    "min_order <- 0\n",
    "max_order <- 5\n",
    "\n",
    "# figure out how many variables we want to care about:\n",
    "# + the maximum number of interactions (i.e. a*b*c == 3-way interaction)\n",
    "# + the maximum number of possible variables (should be >= max interactions)\n",
    "max_num_vars <- 10 # needs to be <= 26\n",
    "max_interactions <- 10 # needs to be <= max_num_vars\n",
    "vars <- paste0(\"x\", seq.int(max_num_vars))\n",
    "\n",
    "# prototypical terms in a function\n",
    "function_space <-\n",
    "c(paste0(\"(A)^\", seq(from = min_order, to = max_order)),\n",
    "         \"sin(A)\",\n",
    "         \"cos(A)\",\n",
    "         \"tan(A)\",\n",
    "         \"exp(A)\")\n",
    "\n",
    "max_weight <- 50\n",
    "weight_space <- # [-N,N]... space of possible coefficients\n",
    "    seq(from = -max_weight, to = max_weight, by = 0.01)\n",
    "\n",
    "max_terms <- 5 # how many terms should be in each random function?\n",
    "\n",
    "generate_random_function <-\n",
    "function(function_space, max_terms, max_interactions, weight_space) {\n",
    "    random_func <- sample(x = function_space, size = max_terms, replace = TRUE)\n",
    "\n",
    "    # limitation: polynomial terms all have the same order\n",
    "    terms <-\n",
    "        sapply(random_func,\n",
    "               function(x) {\n",
    "                   num_interactions <- sample(seq.int(max_interactions), size = 1)\n",
    "                   interactions <- paste0(sample(vars, size = num_interactions, replace=FALSE), collapse=\"*\")\n",
    "                   term <- str_replace(x, pattern = \"A\", replacement = interactions)\n",
    "                   weight <- sample(weight_space, size = 1)\n",
    "                   paste0(weight, \"*\", term)\n",
    "               })\n",
    "\n",
    "    definition <- paste0(terms, collapse=\"+\")\n",
    "\n",
    "    function_string <-\n",
    "        paste0(\"function(\",\n",
    "               paste0(vars, collapse=\",\"),\n",
    "               \") {\",\n",
    "               definition,\n",
    "               \"}\")\n",
    "    \n",
    "    list(r_func = eval(expr = parse(text=function_string)),\n",
    "         definition = definition)\n",
    "}"
   ]
  },
  {
   "cell_type": "code",
   "execution_count": 3,
   "metadata": {
    "collapsed": false
   },
   "outputs": [],
   "source": [
    "set.seed(1234)\n",
    "\n",
    "num_of_random_functions <- 5\n",
    "\n",
    "random_functions <-\n",
    "lapply(seq.int(num_of_random_functions),\n",
    "       function(x) {\n",
    "           generate_random_function(function_space, max_terms, max_interactions, weight_space)\n",
    "       })"
   ]
  },
  {
   "cell_type": "code",
   "execution_count": 4,
   "metadata": {
    "collapsed": false
   },
   "outputs": [],
   "source": [
    "domain_limit <- 10\n",
    "function_domain <- seq(from = -domain_limit, to = domain_limit, by = 0.01)\n",
    "\n",
    "size_of_dataset <- 1E1\n",
    "noise_sd <- 1 # given the order of magnitude of function values, this may be too low\n",
    "\n",
    "# write the dataset to disk\n",
    "data_path <- \"experimental_data.csv\"\n",
    "header <- \n",
    "t(c(vars,\n",
    "    paste0(\"fun\", seq_along(random_functions)),\n",
    "    paste0(\"noisey_fun\", seq_along(random_functions))))\n",
    "    \n",
    "write.table(header,\n",
    "            sep = \",\",\n",
    "            append = FALSE,\n",
    "            row.names = FALSE,\n",
    "            col.names = FALSE,\n",
    "            file = data_path)\n",
    "\n",
    "write_output <-\n",
    "foreach(n = iter(seq.int(size_of_dataset)), .final = rbindlist) %dopar% {\n",
    "    test_point <- sapply(vars, function(x) {sample(function_domain, size=1)})\n",
    "    \n",
    "    func_values <-\n",
    "    sapply(random_functions,\n",
    "          function(x) {do.call(x$r_func, as.list(test_point))})\n",
    "\n",
    "    noisey_func_values <-\n",
    "    func_values + rnorm(n = length(func_values), sd = noise_sd)\n",
    "    \n",
    "    write.table(x = t(c(test_point, func_values, noisey_func_values)),\n",
    "                sep = \",\",\n",
    "                append = TRUE,\n",
    "                row.names = FALSE,\n",
    "                col.names = FALSE,\n",
    "                file = data_path)\n",
    "}"
   ]
  },
  {
   "cell_type": "code",
   "execution_count": 5,
   "metadata": {
    "collapsed": false
   },
   "outputs": [
    {
     "data": {
      "text/html": [
       "'\"x1\",\"x2\",\"x3\",\"x4\",\"x5\",\"x6\",\"x7\",\"x8\",\"x9\",\"x10\",\"fun1\",\"fun2\",\"fun3\",\"fun4\",\"fun5\",\"noisey_fun1\",\"noisey_fun2\",\"noisey_fun3\",\"noisey_fun4\",\"noisey_fun5\"'"
      ],
      "text/latex": [
       "'\"x1\",\"x2\",\"x3\",\"x4\",\"x5\",\"x6\",\"x7\",\"x8\",\"x9\",\"x10\",\"fun1\",\"fun2\",\"fun3\",\"fun4\",\"fun5\",\"noisey_fun1\",\"noisey_fun2\",\"noisey_fun3\",\"noisey_fun4\",\"noisey_fun5\"'"
      ],
      "text/markdown": [
       "'\"x1\",\"x2\",\"x3\",\"x4\",\"x5\",\"x6\",\"x7\",\"x8\",\"x9\",\"x10\",\"fun1\",\"fun2\",\"fun3\",\"fun4\",\"fun5\",\"noisey_fun1\",\"noisey_fun2\",\"noisey_fun3\",\"noisey_fun4\",\"noisey_fun5\"'"
      ],
      "text/plain": [
       "[1] \"\\\"x1\\\",\\\"x2\\\",\\\"x3\\\",\\\"x4\\\",\\\"x5\\\",\\\"x6\\\",\\\"x7\\\",\\\"x8\\\",\\\"x9\\\",\\\"x10\\\",\\\"fun1\\\",\\\"fun2\\\",\\\"fun3\\\",\\\"fun4\\\",\\\"fun5\\\",\\\"noisey_fun1\\\",\\\"noisey_fun2\\\",\\\"noisey_fun3\\\",\\\"noisey_fun4\\\",\\\"noisey_fun5\\\"\""
      ]
     },
     "execution_count": 5,
     "metadata": {},
     "output_type": "execute_result"
    }
   ],
   "source": [
    "system(paste(\"head -n 1\", data_path), intern = TRUE)"
   ]
  }
 ],
 "metadata": {
  "kernelspec": {
   "display_name": "R",
   "language": "R",
   "name": "ir"
  },
  "language_info": {
   "codemirror_mode": "r",
   "file_extension": ".r",
   "mimetype": "text/x-r-source",
   "name": "R",
   "pygments_lexer": "r",
   "version": "3.2.2"
  }
 },
 "nbformat": 4,
 "nbformat_minor": 0
}
